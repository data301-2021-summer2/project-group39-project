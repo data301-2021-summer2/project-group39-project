{
 "cells": [
  {
   "cell_type": "markdown",
   "id": "8a7f26f9-4e93-4476-91ce-29be18437258",
   "metadata": {},
   "source": [
    "## NHL Data EDA"
   ]
  },
  {
   "cell_type": "code",
   "execution_count": 53,
   "id": "747d2bf2-c0e1-4dc0-800a-3a81f374bdee",
   "metadata": {},
   "outputs": [],
   "source": [
    "import pandas as pd\n",
    "import seaborn as sns\n",
    "import numpy as np\n",
    "import os\n",
    "import matplotlib.pyplot as plt\n",
    "import pandas_profiling\n",
    "from pandas_profiling import ProfileReport"
   ]
  },
  {
   "cell_type": "code",
   "execution_count": 58,
   "id": "7dd5390b-ecc2-459c-a2e2-fcade1606481",
   "metadata": {},
   "outputs": [],
   "source": [
    "import sys\n",
    "sys.path.append('..')"
   ]
  },
  {
   "cell_type": "code",
   "execution_count": 64,
   "id": "421b7be1-53d4-44e4-b9eb-6a67acbe02a6",
   "metadata": {},
   "outputs": [],
   "source": [
    "from scripts import ProjectFunctions as pf"
   ]
  },
  {
   "cell_type": "code",
   "execution_count": 60,
   "id": "d1741202-3f81-489c-8e1c-5640f889464c",
   "metadata": {},
   "outputs": [],
   "source": [
    "k = \"C:/Users/keati/Documents/Cosc301/Nhl_Data/game_teams_stats.csv\""
   ]
  },
  {
   "cell_type": "code",
   "execution_count": 63,
   "id": "2d69903e-3b0c-4e34-8483-0f1be580dbd0",
   "metadata": {},
   "outputs": [
    {
     "ename": "AttributeError",
     "evalue": "module 'scripts.ProjectFunctions' has no attribute 'CoachData'",
     "output_type": "error",
     "traceback": [
      "\u001b[1;31m---------------------------------------------------------------------------\u001b[0m",
      "\u001b[1;31mAttributeError\u001b[0m                            Traceback (most recent call last)",
      "\u001b[1;32m~\\AppData\\Local\\Temp/ipykernel_13244/3624644678.py\u001b[0m in \u001b[0;36m<module>\u001b[1;34m\u001b[0m\n\u001b[1;32m----> 1\u001b[1;33m \u001b[0mpf\u001b[0m\u001b[1;33m.\u001b[0m\u001b[0mCoachData\u001b[0m\u001b[1;33m(\u001b[0m\u001b[0mk\u001b[0m\u001b[1;33m)\u001b[0m\u001b[1;33m\u001b[0m\u001b[1;33m\u001b[0m\u001b[0m\n\u001b[0m",
      "\u001b[1;31mAttributeError\u001b[0m: module 'scripts.ProjectFunctions' has no attribute 'CoachData'"
     ]
    }
   ],
   "source": [
    "pf.CoachData(k)"
   ]
  },
  {
   "cell_type": "code",
   "execution_count": null,
   "id": "9cb8711d-0ee0-41ce-9571-40b75efe57b5",
   "metadata": {},
   "outputs": [],
   "source": []
  },
  {
   "cell_type": "code",
   "execution_count": null,
   "id": "759ec11f-6783-447f-9c9f-bbe8861993c5",
   "metadata": {},
   "outputs": [],
   "source": []
  }
 ],
 "metadata": {
  "kernelspec": {
   "display_name": "Python 3 (ipykernel)",
   "language": "python",
   "name": "python3"
  },
  "language_info": {
   "codemirror_mode": {
    "name": "ipython",
    "version": 3
   },
   "file_extension": ".py",
   "mimetype": "text/x-python",
   "name": "python",
   "nbconvert_exporter": "python",
   "pygments_lexer": "ipython3",
   "version": "3.8.5"
  }
 },
 "nbformat": 4,
 "nbformat_minor": 5
}
