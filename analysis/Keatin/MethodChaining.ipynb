{
 "cells": [
  {
   "cell_type": "markdown",
   "id": "445a9ced-515e-494a-a6df-a61abad6b1ce",
   "metadata": {},
   "source": [
    "# Importing all required libarys and extras"
   ]
  },
  {
   "cell_type": "code",
   "execution_count": 1,
   "id": "812b243a-07ac-4302-96b8-988b9ee6a9b0",
   "metadata": {},
   "outputs": [],
   "source": [
    "import pandas as pd"
   ]
  },
  {
   "cell_type": "markdown",
   "id": "4dd2e51f-2411-44c7-8ed8-a8d33f892a50",
   "metadata": {},
   "source": [
    "# Attempt at Method chaining\n",
    "This function will call my game_stats raw data format it to what is needed"
   ]
  },
  {
   "cell_type": "code",
   "execution_count": 4,
   "id": "c899db06-4ab3-4b26-a1a8-a7cd8e5f29be",
   "metadata": {},
   "outputs": [],
   "source": [
    "n = \"C:/Users/keati/Documents/Cosc301/Nhl_Data/game_teams_stats.csv\"\n",
    "\n",
    "def Cleaning_Game_data(n):\n",
    "        # Method chaining begins\n",
    "    df = (\n",
    "         pd.read_csv(n)\n",
    "        )\n",
    "    df2 = (\n",
    "         df[(df['team_id']) <= 54 ]\n",
    "         .drop(['game_id','HoA','settled_in','head_coach','faceOffWinPercentage','startRinkSide'], axis ='columns')\n",
    "         .groupby('team_id').sum()\n",
    "         .reset_index(drop=True)\n",
    "    )\n",
    "    return df2\n",
    "    \n"
   ]
  },
  {
   "cell_type": "code",
   "execution_count": 5,
   "id": "61b4d682-3199-43a5-99dd-4e7a86bf573e",
   "metadata": {},
   "outputs": [],
   "source": [
    "def Clean_Teams_List(n):\n",
    "        # Method chaining begins\n",
    "    df = (\n",
    "         pd.read_csv(n)\n",
    "        .drop(['franchiseId','abbreviation','link'],axis='columns')\n",
    "        .sort_values(by='team_id',ascending=True)\n",
    "        .reset_index(drop=True)\n",
    "        )\n",
    "    return df"
   ]
  },
  {
   "cell_type": "code",
   "execution_count": null,
   "id": "12d4d45f-9d55-4c56-bbdb-eaf51d8ca9f1",
   "metadata": {},
   "outputs": [],
   "source": []
  },
  {
   "cell_type": "code",
   "execution_count": null,
   "id": "ab7e4ccc-9d9b-4343-b250-b41ed38f087c",
   "metadata": {},
   "outputs": [],
   "source": [
    "\n"
   ]
  },
  {
   "cell_type": "code",
   "execution_count": null,
   "id": "61c8aea7-ef43-4f09-bf79-14553d25a030",
   "metadata": {},
   "outputs": [],
   "source": []
  }
 ],
 "metadata": {
  "kernelspec": {
   "display_name": "Python 3 (ipykernel)",
   "language": "python",
   "name": "python3"
  },
  "language_info": {
   "codemirror_mode": {
    "name": "ipython",
    "version": 3
   },
   "file_extension": ".py",
   "mimetype": "text/x-python",
   "name": "python",
   "nbconvert_exporter": "python",
   "pygments_lexer": "ipython3",
   "version": "3.8.5"
  }
 },
 "nbformat": 4,
 "nbformat_minor": 5
}
