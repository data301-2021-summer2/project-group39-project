{
 "cells": [
  {
   "cell_type": "markdown",
   "id": "ff94ee1f-83c9-4723-ad36-0e18318c5df2",
   "metadata": {},
   "source": [
    "# NHL Data Analysis\n",
    "  \"If you have time can you put like an intro here? Doesnt have to be long\"\n",
    "### Research Questions\n",
    "    - Which NHL Teams have been statistcally the most dominate compared to achieved results\n",
    "    - For each NHL Team, who has had the most \"Successful Tenure\"\n",
    "    - \"Vanessa fill in\"\n",
    "---\n",
    "Please view both of our EDA's beforehand for a little more context and understanding of what will be doing!"
   ]
  },
  {
   "cell_type": "markdown",
   "id": "205794f1-8d0d-4d7a-bee7-5da9347703dc",
   "metadata": {},
   "source": [
    "### Loading Preliminary functions"
   ]
  },
  {
   "cell_type": "code",
   "execution_count": 1,
   "id": "0ecabdfd-eb2f-4ec1-9363-0f4669df7f9c",
   "metadata": {},
   "outputs": [],
   "source": [
    "import pandas as pd\n",
    "import seaborn as sns\n",
    "import numpy as np\n",
    "import os\n",
    "import matplotlib.pyplot as plt\n",
    "##import pandas_profiling\n",
    "##from pandas_profiling import ProfileReport\n",
    "import sys\n",
    "sys.path.append('..')\n",
    "from scripts import ProjectFunctions as pf"
   ]
  },
  {
   "cell_type": "markdown",
   "id": "04ffe5eb-bb90-4993-887c-bd056a3d6720",
   "metadata": {},
   "source": [
    "### Importing Data Lists\n",
    "The next line we are just importing the data from our local repositorys, this can be changed to a url or any other method for replicaton\n",
    "- The [NHL DATA is from this Kaggle page.](https://www.kaggle.com/martinellis/nhl-game-data) for convienance\n",
    "\n",
    "All data is provided and can be sourced from the NHL’s API, unofficial documentation can be found on Drew Hynes’ gitlab here: https://gitlab.com/dword4/nhlapi/-/blob/master/stats-api.md"
   ]
  },
  {
   "cell_type": "code",
   "execution_count": 3,
   "id": "357d9e30-4d70-48f4-bb1f-56a345700b9d",
   "metadata": {},
   "outputs": [
    {
     "ename": "SyntaxError",
     "evalue": "EOL while scanning string literal (Temp/ipykernel_7004/2143302964.py, line 1)",
     "output_type": "error",
     "traceback": [
      "\u001b[1;36m  File \u001b[1;32m\"C:\\Users\\keati\\AppData\\Local\\Temp/ipykernel_7004/2143302964.py\"\u001b[1;36m, line \u001b[1;32m1\u001b[0m\n\u001b[1;33m    k = \"project-group39-project/data/raw/game_teams_stats.csv\u001b[0m\n\u001b[1;37m                                                              ^\u001b[0m\n\u001b[1;31mSyntaxError\u001b[0m\u001b[1;31m:\u001b[0m EOL while scanning string literal\n"
     ]
    }
   ],
   "source": [
    "k = \"project-group39-project/data/raw/game_teams_stats.csv\n",
    "l = \"C:/Users/keati/Documents/Cosc301/Nhl_Data/team_info.csv\"\n",
    "z = \"C:/Users/keati/Documents/Cosc301/Nhl_Data/game.csv\"\n",
    "\n",
    "df1 = pf.CoachData(k)\n",
    "df2 = pf.TeamData(k)\n",
    "df3 = pf.TeamList(l)\n",
    "## df4 name is taken - go df5 and up :)\n",
    "\n",
    "\n",
    "Coach_df = pd.merge(df3,df1, how='inner')\n",
    "total_df = pd.concat([df3,df2],axis=1).reindex(df2.index)"
   ]
  },
  {
   "cell_type": "markdown",
   "id": "8efcda6d-ea31-4dd1-8c5a-3238461c702e",
   "metadata": {},
   "source": [
    "## Successful Tenure"
   ]
  },
  {
   "cell_type": "markdown",
   "id": "9d89becd-1751-4675-bf53-8631270cdaa9",
   "metadata": {},
   "source": [
    "To start off our analysis of the most dominate coach over the last couple years. I first wanted to look at each individual team and figure out who on which coach has had the best run on each team"
   ]
  },
  {
   "cell_type": "code",
   "execution_count": null,
   "id": "4abcf1ae-6bcb-46e0-8dcd-98d2c0ab8dba",
   "metadata": {},
   "outputs": [],
   "source": [
    "step1 = pd.merge(pd.read_csv(k),pd.read_csv(z), how='inner')\n",
    "step2 = step1.groupby(['head_coach','team_id']).sum().reset_index().drop(['game_id', 'home_team_id','season','away_team_id','venue_time_zone_offset','goals'], axis = 'columns')\n",
    "df4 = pd.merge(df3,step2, how='inner')\n",
    "Total = df4.sort_values('won').drop_duplicates('teamName', keep = 'last').reset_index(drop=True)\n",
    "Total"
   ]
  },
  {
   "cell_type": "markdown",
   "id": "ad405a1c-7e98-4907-a369-00350c3c73ce",
   "metadata": {},
   "source": [
    "- From this dataframe I was able to plot and see which had the most amount of wins with each individual team and started to form some other advanced stats for the analysis"
   ]
  },
  {
   "cell_type": "code",
   "execution_count": 4,
   "id": "dd2598c7-2bf8-4fdc-b454-65a249a901be",
   "metadata": {},
   "outputs": [
    {
     "ename": "NameError",
     "evalue": "name 'Total' is not defined",
     "output_type": "error",
     "traceback": [
      "\u001b[1;31m---------------------------------------------------------------------------\u001b[0m",
      "\u001b[1;31mNameError\u001b[0m                                 Traceback (most recent call last)",
      "\u001b[1;32m~\\AppData\\Local\\Temp/ipykernel_7004/3415741141.py\u001b[0m in \u001b[0;36m<module>\u001b[1;34m\u001b[0m\n\u001b[1;32m----> 1\u001b[1;33m \u001b[0mMost_wins\u001b[0m \u001b[1;33m=\u001b[0m \u001b[0mTotal\u001b[0m\u001b[1;33m.\u001b[0m\u001b[0msort_values\u001b[0m\u001b[1;33m(\u001b[0m\u001b[1;34m'won'\u001b[0m\u001b[1;33m)\u001b[0m\u001b[1;33m.\u001b[0m\u001b[0mdrop_duplicates\u001b[0m\u001b[1;33m(\u001b[0m\u001b[1;34m'teamName'\u001b[0m\u001b[1;33m,\u001b[0m \u001b[0mkeep\u001b[0m \u001b[1;33m=\u001b[0m \u001b[1;34m'last'\u001b[0m\u001b[1;33m)\u001b[0m\u001b[1;33m.\u001b[0m\u001b[0mreset_index\u001b[0m\u001b[1;33m(\u001b[0m\u001b[0mdrop\u001b[0m\u001b[1;33m=\u001b[0m\u001b[1;32mTrue\u001b[0m\u001b[1;33m)\u001b[0m\u001b[1;33m\u001b[0m\u001b[1;33m\u001b[0m\u001b[0m\n\u001b[0m\u001b[0;32m      2\u001b[0m \u001b[0msns\u001b[0m\u001b[1;33m.\u001b[0m\u001b[0mbarplot\u001b[0m\u001b[1;33m(\u001b[0m\u001b[0mx\u001b[0m\u001b[1;33m=\u001b[0m\u001b[1;34m'won'\u001b[0m\u001b[1;33m,\u001b[0m\u001b[0my\u001b[0m\u001b[1;33m=\u001b[0m\u001b[1;34m'head_coach'\u001b[0m\u001b[1;33m,\u001b[0m\u001b[0mdata\u001b[0m\u001b[1;33m=\u001b[0m\u001b[0mMost_wins\u001b[0m\u001b[1;33m,\u001b[0m\u001b[0mlinewidth\u001b[0m\u001b[1;33m=\u001b[0m\u001b[1;36m1\u001b[0m\u001b[1;33m)\u001b[0m\u001b[1;33m\u001b[0m\u001b[1;33m\u001b[0m\u001b[0m\n\u001b[0;32m      3\u001b[0m \u001b[0mplt\u001b[0m\u001b[1;33m.\u001b[0m\u001b[0mxlabel\u001b[0m\u001b[1;33m(\u001b[0m\u001b[1;34m\"Wins\"\u001b[0m\u001b[1;33m)\u001b[0m\u001b[1;33m\u001b[0m\u001b[1;33m\u001b[0m\u001b[0m\n\u001b[0;32m      4\u001b[0m \u001b[0mplt\u001b[0m\u001b[1;33m.\u001b[0m\u001b[0mylabel\u001b[0m\u001b[1;33m(\u001b[0m\u001b[1;34m\"Head Coach\"\u001b[0m\u001b[1;33m)\u001b[0m\u001b[1;33m\u001b[0m\u001b[1;33m\u001b[0m\u001b[0m\n\u001b[0;32m      5\u001b[0m \u001b[0mplt\u001b[0m\u001b[1;33m.\u001b[0m\u001b[0mtitle\u001b[0m\u001b[1;33m(\u001b[0m\u001b[1;34m\"Most Wins for each Team\"\u001b[0m\u001b[1;33m)\u001b[0m\u001b[1;33m\u001b[0m\u001b[1;33m\u001b[0m\u001b[0m\n",
      "\u001b[1;31mNameError\u001b[0m: name 'Total' is not defined"
     ]
    }
   ],
   "source": [
    "Most_wins = Total.sort_values('won').drop_duplicates('teamName', keep = 'last').reset_index(drop=True)\n",
    "sns.barplot(x='won',y='head_coach',data=Most_wins,linewidth=1)\n",
    "plt.xlabel(\"Wins\")\n",
    "plt.ylabel(\"Head Coach\")\n",
    "plt.title(\"Most Wins for each Team\")"
   ]
  },
  {
   "cell_type": "markdown",
   "id": "05862a1a-8175-4a5c-bfc2-ce19e21cf676",
   "metadata": {},
   "source": [
    "Moving on from this base Information I wanted to see what made each coach with there respective made them so successful.\n",
    "\n",
    "To achieve this I created another Three columns figuring out the each teams total goals, Total goal percentage and power play goal percentage\n",
    "\n",
    "I feel these stats are important as it shows eachs teams chance to score on a shot and the amount of times you can except them to score"
   ]
  },
  {
   "cell_type": "code",
   "execution_count": null,
   "id": "f341f80f-1a55-4fc4-855d-c29552f1c1eb",
   "metadata": {},
   "outputs": [],
   "source": [
    "Total['Total Goals'] = Total['away_goals'] + Total['home_goals']"
   ]
  },
  {
   "cell_type": "code",
   "execution_count": null,
   "id": "c9928d2b-42cc-4e3e-bf03-d7e908ce12ea",
   "metadata": {},
   "outputs": [],
   "source": [
    "Total['Goal Percentage in %'] = (((Total['away_goals'] + Total['home_goals'])/Total['shots'])*100)\n",
    "Total['PPG Goal Percentage in %'] = ((Total['powerPlayGoals']/Total['powerPlayOpportunities'])*100)\n",
    "Total.head()"
   ]
  },
  {
   "cell_type": "code",
   "execution_count": null,
   "id": "b45c6cd1-67ec-415e-8b6d-5b3a7c5e1a63",
   "metadata": {},
   "outputs": [],
   "source": [
    "sns.barplot(x='Goal Percentage in %',y='head_coach',data=Total,linewidth=0.2)"
   ]
  },
  {
   "cell_type": "code",
   "execution_count": null,
   "id": "2a979944-3aaa-42b6-9ef3-57c01616a7a7",
   "metadata": {},
   "outputs": [],
   "source": [
    "sns.barplot(x='PPG Goal Percentage in %',y='head_coach',data=Total,linewidth=0.2)"
   ]
  },
  {
   "cell_type": "markdown",
   "id": "0a67dceb-80c1-4621-a161-aabc0384a4cb",
   "metadata": {},
   "source": [
    "## Most dominate"
   ]
  },
  {
   "cell_type": "markdown",
   "id": "5fef4d61-4b93-4226-bce6-9dc6a84b25c1",
   "metadata": {},
   "source": [
    "lastly to explore the most dominate coach, We will be exploring the stats from each team regardless off there overall achieved results in the last 8 years. This is due to the fact that not every team has played the same number of gaames so the wins category can be skewed. This is noted with the Golden Knights have not been in the league as long as every other team."
   ]
  },
  {
   "cell_type": "markdown",
   "id": "2f5f951d-b0e4-446a-b1df-d21ee77183ba",
   "metadata": {},
   "source": [
    "To work around this I am going to create a weighted total including shots, hits, takeaways and blocked shots and goals. These stats are more relative to the overal play of a team rather than just goals and if they win.\n",
    "\n",
    "The scores will be computed with:\n",
    " - 40% Goals - Need to Score to win\n",
    " - 20% Shots - Generates offence\n",
    " - 30% takeaway - Generates a turn over and gives the team the play\n",
    " - 10% Hits - defensive statistic, defending your zone\n",
    " - 20% block shots - defensive statistic\n",
    " \n",
    " "
   ]
  },
  {
   "cell_type": "code",
   "execution_count": null,
   "id": "77d46982-0ef6-4e84-8a1c-12b4c9ce3ee5",
   "metadata": {},
   "outputs": [],
   "source": [
    "Total['Weighted Score'] = (0.3*Total['shots'] + 0.2*Total['takeaways'] + 0.1*Total['hits'] + 0.1*Total['blocked']+0.4*Total['Total Goals'])\n",
    "Sample = pd.DataFrame(Total.groupby(\"teamName\")['Weighted Score'].mean().sort_values(ascending=False).reset_index())\n",
    "Sample"
   ]
  },
  {
   "cell_type": "markdown",
   "id": "0655e24e-e961-4ae0-818b-2ab9c7f89e0a",
   "metadata": {},
   "source": [
    "From this result you can see how Tampa Bay is near the one team using a weighted score, It is also is good to note that although the Golden Knights have not played nearly as many games as the rest of the teams they are on the top end of the league.\n",
    "\n",
    "To Conclude I would say the best team and coach over the last couple of years is John Cooper with the Tampa Bay Lighting. For easbily I summerized his stats below"
   ]
  },
  {
   "cell_type": "code",
   "execution_count": null,
   "id": "cdf30aa3-131a-46e8-9ed8-461f9da9b3aa",
   "metadata": {},
   "outputs": [],
   "source": [
    "print(\"Summary of John Cooper and Tampa Bay\")\n",
    "display(Total.iloc[31])"
   ]
  },
  {
   "cell_type": "markdown",
   "id": "03499521-b72b-4432-8a5b-49c9a1cc092a",
   "metadata": {},
   "source": [
    "## Vanessa Research Question"
   ]
  },
  {
   "cell_type": "markdown",
   "id": "2cefb799-910a-42e0-b86f-d11ea47bc128",
   "metadata": {},
   "source": []
  },
  {
   "cell_type": "code",
   "execution_count": null,
   "id": "46716145-b288-43b7-bea5-9eeb4946bab0",
   "metadata": {},
   "outputs": [],
   "source": []
  }
 ],
 "metadata": {
  "kernelspec": {
   "display_name": "Python 3 (ipykernel)",
   "language": "python",
   "name": "python3"
  },
  "language_info": {
   "codemirror_mode": {
    "name": "ipython",
    "version": 3
   },
   "file_extension": ".py",
   "mimetype": "text/x-python",
   "name": "python",
   "nbconvert_exporter": "python",
   "pygments_lexer": "ipython3",
   "version": "3.9.5"
  }
 },
 "nbformat": 4,
 "nbformat_minor": 5
}
