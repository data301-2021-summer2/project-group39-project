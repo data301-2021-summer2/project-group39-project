{
 "cells": [
  {
   "cell_type": "markdown",
   "id": "ff94ee1f-83c9-4723-ad36-0e18318c5df2",
   "metadata": {},
   "source": [
    "# NHL Data Analysis\n",
    "  \"If you have time can you put like an intro here? Doesnt have to be long\"\n",
    "### Research Questions\n",
    "    - Which NHL Teams have been statistcally the most dominate compared to achieved results\n",
    "    - For each NHL Team, who has had the most \"Successful Tenure\"\n",
    "    - \"Vanessa fill in\"\n",
    "---\n",
    "Please view both of our EDA's beforehand for a little more context and understanding of what will be doing!"
   ]
  },
  {
   "cell_type": "markdown",
   "id": "205794f1-8d0d-4d7a-bee7-5da9347703dc",
   "metadata": {},
   "source": [
    "### Loading Preliminary functions"
   ]
  },
  {
   "cell_type": "code",
   "execution_count": 1,
   "id": "0ecabdfd-eb2f-4ec1-9363-0f4669df7f9c",
   "metadata": {},
   "outputs": [],
   "source": [
    "import pandas as pd\n",
    "import seaborn as sns\n",
    "import numpy as np\n",
    "import os\n",
    "import matplotlib.pyplot as plt\n",
    "import pandas_profiling\n",
    "from pandas_profiling import ProfileReport\n",
    "import sys\n",
    "sys.path.append('..')\n",
    "from scripts import ProjectFunctions as pf"
   ]
  },
  {
   "cell_type": "markdown",
   "id": "04ffe5eb-bb90-4993-887c-bd056a3d6720",
   "metadata": {},
   "source": [
    "### Importing Data Lists\n",
    "The next line we are just importing the data from our local repositorys, this can be changed to a url or any other method for replicaton\n",
    "- The [NHL DATA is from this Kaggle page.](https://www.kaggle.com/martinellis/nhl-game-data) for convienance\n",
    "\n",
    "All data is provided and can be sourced from the NHL’s API, unofficial documentation can be found on Drew Hynes’ gitlab here: https://gitlab.com/dword4/nhlapi/-/blob/master/stats-api.md"
   ]
  },
  {
   "cell_type": "code",
   "execution_count": 2,
   "id": "357d9e30-4d70-48f4-bb1f-56a345700b9d",
   "metadata": {},
   "outputs": [
    {
     "ename": "FileNotFoundError",
     "evalue": "[Errno 2] File C:/Users/keati/Documents/Cosc301/Nhl_Data/game_teams_stats.csv does not exist: 'C:/Users/keati/Documents/Cosc301/Nhl_Data/game_teams_stats.csv'",
     "output_type": "error",
     "traceback": [
      "\u001b[0;31m---------------------------------------------------------------------------\u001b[0m",
      "\u001b[0;31mFileNotFoundError\u001b[0m                         Traceback (most recent call last)",
      "\u001b[0;32m/var/folders/zt/x8z6v31s363774h5pl0njvhc0000gn/T/ipykernel_21456/1926722732.py\u001b[0m in \u001b[0;36m<module>\u001b[0;34m\u001b[0m\n\u001b[1;32m      2\u001b[0m \u001b[0ml\u001b[0m \u001b[0;34m=\u001b[0m \u001b[0;34m\"C:/Users/keati/Documents/Cosc301/Nhl_Data/team_info.csv\"\u001b[0m\u001b[0;34m\u001b[0m\u001b[0;34m\u001b[0m\u001b[0m\n\u001b[1;32m      3\u001b[0m \u001b[0;34m\u001b[0m\u001b[0m\n\u001b[0;32m----> 4\u001b[0;31m \u001b[0mdf1\u001b[0m \u001b[0;34m=\u001b[0m \u001b[0mpf\u001b[0m\u001b[0;34m.\u001b[0m\u001b[0mCoachData\u001b[0m\u001b[0;34m(\u001b[0m\u001b[0mk\u001b[0m\u001b[0;34m)\u001b[0m\u001b[0;34m\u001b[0m\u001b[0;34m\u001b[0m\u001b[0m\n\u001b[0m\u001b[1;32m      5\u001b[0m \u001b[0mdf2\u001b[0m \u001b[0;34m=\u001b[0m \u001b[0mpf\u001b[0m\u001b[0;34m.\u001b[0m\u001b[0mTeamData\u001b[0m\u001b[0;34m(\u001b[0m\u001b[0mk\u001b[0m\u001b[0;34m)\u001b[0m\u001b[0;34m\u001b[0m\u001b[0;34m\u001b[0m\u001b[0m\n\u001b[1;32m      6\u001b[0m \u001b[0mdf3\u001b[0m \u001b[0;34m=\u001b[0m \u001b[0mpf\u001b[0m\u001b[0;34m.\u001b[0m\u001b[0mTeamList\u001b[0m\u001b[0;34m(\u001b[0m\u001b[0ml\u001b[0m\u001b[0;34m)\u001b[0m\u001b[0;34m\u001b[0m\u001b[0;34m\u001b[0m\u001b[0m\n",
      "\u001b[0;32m~/Documents/School/4thYear/Data301/project-group39-project/analysis/scripts/ProjectFunctions.py\u001b[0m in \u001b[0;36mCoachData\u001b[0;34m(n)\u001b[0m\n\u001b[1;32m     10\u001b[0m \u001b[0;34m\u001b[0m\u001b[0m\n\u001b[1;32m     11\u001b[0m     df = (\n\u001b[0;32m---> 12\u001b[0;31m         \u001b[0mpd\u001b[0m\u001b[0;34m.\u001b[0m\u001b[0mread_csv\u001b[0m\u001b[0;34m(\u001b[0m\u001b[0mn\u001b[0m\u001b[0;34m)\u001b[0m\u001b[0;34m\u001b[0m\u001b[0;34m\u001b[0m\u001b[0m\n\u001b[0m\u001b[1;32m     13\u001b[0m        \u001b[0;34m.\u001b[0m\u001b[0mgroupby\u001b[0m\u001b[0;34m(\u001b[0m\u001b[0;34m[\u001b[0m\u001b[0;34m'head_coach'\u001b[0m\u001b[0;34m,\u001b[0m\u001b[0;34m'team_id'\u001b[0m\u001b[0;34m]\u001b[0m\u001b[0;34m)\u001b[0m\u001b[0;34m\u001b[0m\u001b[0;34m\u001b[0m\u001b[0m\n\u001b[1;32m     14\u001b[0m        \u001b[0;34m.\u001b[0m\u001b[0msum\u001b[0m\u001b[0;34m(\u001b[0m\u001b[0;34m)\u001b[0m\u001b[0;34m\u001b[0m\u001b[0;34m\u001b[0m\u001b[0m\n",
      "\u001b[0;32m~/opt/miniconda3/lib/python3.8/site-packages/pandas/io/parsers.py\u001b[0m in \u001b[0;36mparser_f\u001b[0;34m(filepath_or_buffer, sep, delimiter, header, names, index_col, usecols, squeeze, prefix, mangle_dupe_cols, dtype, engine, converters, true_values, false_values, skipinitialspace, skiprows, skipfooter, nrows, na_values, keep_default_na, na_filter, verbose, skip_blank_lines, parse_dates, infer_datetime_format, keep_date_col, date_parser, dayfirst, cache_dates, iterator, chunksize, compression, thousands, decimal, lineterminator, quotechar, quoting, doublequote, escapechar, comment, encoding, dialect, error_bad_lines, warn_bad_lines, delim_whitespace, low_memory, memory_map, float_precision)\u001b[0m\n\u001b[1;32m    674\u001b[0m         )\n\u001b[1;32m    675\u001b[0m \u001b[0;34m\u001b[0m\u001b[0m\n\u001b[0;32m--> 676\u001b[0;31m         \u001b[0;32mreturn\u001b[0m \u001b[0m_read\u001b[0m\u001b[0;34m(\u001b[0m\u001b[0mfilepath_or_buffer\u001b[0m\u001b[0;34m,\u001b[0m \u001b[0mkwds\u001b[0m\u001b[0;34m)\u001b[0m\u001b[0;34m\u001b[0m\u001b[0;34m\u001b[0m\u001b[0m\n\u001b[0m\u001b[1;32m    677\u001b[0m \u001b[0;34m\u001b[0m\u001b[0m\n\u001b[1;32m    678\u001b[0m     \u001b[0mparser_f\u001b[0m\u001b[0;34m.\u001b[0m\u001b[0m__name__\u001b[0m \u001b[0;34m=\u001b[0m \u001b[0mname\u001b[0m\u001b[0;34m\u001b[0m\u001b[0;34m\u001b[0m\u001b[0m\n",
      "\u001b[0;32m~/opt/miniconda3/lib/python3.8/site-packages/pandas/io/parsers.py\u001b[0m in \u001b[0;36m_read\u001b[0;34m(filepath_or_buffer, kwds)\u001b[0m\n\u001b[1;32m    446\u001b[0m \u001b[0;34m\u001b[0m\u001b[0m\n\u001b[1;32m    447\u001b[0m     \u001b[0;31m# Create the parser.\u001b[0m\u001b[0;34m\u001b[0m\u001b[0;34m\u001b[0m\u001b[0;34m\u001b[0m\u001b[0m\n\u001b[0;32m--> 448\u001b[0;31m     \u001b[0mparser\u001b[0m \u001b[0;34m=\u001b[0m \u001b[0mTextFileReader\u001b[0m\u001b[0;34m(\u001b[0m\u001b[0mfp_or_buf\u001b[0m\u001b[0;34m,\u001b[0m \u001b[0;34m**\u001b[0m\u001b[0mkwds\u001b[0m\u001b[0;34m)\u001b[0m\u001b[0;34m\u001b[0m\u001b[0;34m\u001b[0m\u001b[0m\n\u001b[0m\u001b[1;32m    449\u001b[0m \u001b[0;34m\u001b[0m\u001b[0m\n\u001b[1;32m    450\u001b[0m     \u001b[0;32mif\u001b[0m \u001b[0mchunksize\u001b[0m \u001b[0;32mor\u001b[0m \u001b[0miterator\u001b[0m\u001b[0;34m:\u001b[0m\u001b[0;34m\u001b[0m\u001b[0;34m\u001b[0m\u001b[0m\n",
      "\u001b[0;32m~/opt/miniconda3/lib/python3.8/site-packages/pandas/io/parsers.py\u001b[0m in \u001b[0;36m__init__\u001b[0;34m(self, f, engine, **kwds)\u001b[0m\n\u001b[1;32m    878\u001b[0m             \u001b[0mself\u001b[0m\u001b[0;34m.\u001b[0m\u001b[0moptions\u001b[0m\u001b[0;34m[\u001b[0m\u001b[0;34m\"has_index_names\"\u001b[0m\u001b[0;34m]\u001b[0m \u001b[0;34m=\u001b[0m \u001b[0mkwds\u001b[0m\u001b[0;34m[\u001b[0m\u001b[0;34m\"has_index_names\"\u001b[0m\u001b[0;34m]\u001b[0m\u001b[0;34m\u001b[0m\u001b[0;34m\u001b[0m\u001b[0m\n\u001b[1;32m    879\u001b[0m \u001b[0;34m\u001b[0m\u001b[0m\n\u001b[0;32m--> 880\u001b[0;31m         \u001b[0mself\u001b[0m\u001b[0;34m.\u001b[0m\u001b[0m_make_engine\u001b[0m\u001b[0;34m(\u001b[0m\u001b[0mself\u001b[0m\u001b[0;34m.\u001b[0m\u001b[0mengine\u001b[0m\u001b[0;34m)\u001b[0m\u001b[0;34m\u001b[0m\u001b[0;34m\u001b[0m\u001b[0m\n\u001b[0m\u001b[1;32m    881\u001b[0m \u001b[0;34m\u001b[0m\u001b[0m\n\u001b[1;32m    882\u001b[0m     \u001b[0;32mdef\u001b[0m \u001b[0mclose\u001b[0m\u001b[0;34m(\u001b[0m\u001b[0mself\u001b[0m\u001b[0;34m)\u001b[0m\u001b[0;34m:\u001b[0m\u001b[0;34m\u001b[0m\u001b[0;34m\u001b[0m\u001b[0m\n",
      "\u001b[0;32m~/opt/miniconda3/lib/python3.8/site-packages/pandas/io/parsers.py\u001b[0m in \u001b[0;36m_make_engine\u001b[0;34m(self, engine)\u001b[0m\n\u001b[1;32m   1112\u001b[0m     \u001b[0;32mdef\u001b[0m \u001b[0m_make_engine\u001b[0m\u001b[0;34m(\u001b[0m\u001b[0mself\u001b[0m\u001b[0;34m,\u001b[0m \u001b[0mengine\u001b[0m\u001b[0;34m=\u001b[0m\u001b[0;34m\"c\"\u001b[0m\u001b[0;34m)\u001b[0m\u001b[0;34m:\u001b[0m\u001b[0;34m\u001b[0m\u001b[0;34m\u001b[0m\u001b[0m\n\u001b[1;32m   1113\u001b[0m         \u001b[0;32mif\u001b[0m \u001b[0mengine\u001b[0m \u001b[0;34m==\u001b[0m \u001b[0;34m\"c\"\u001b[0m\u001b[0;34m:\u001b[0m\u001b[0;34m\u001b[0m\u001b[0;34m\u001b[0m\u001b[0m\n\u001b[0;32m-> 1114\u001b[0;31m             \u001b[0mself\u001b[0m\u001b[0;34m.\u001b[0m\u001b[0m_engine\u001b[0m \u001b[0;34m=\u001b[0m \u001b[0mCParserWrapper\u001b[0m\u001b[0;34m(\u001b[0m\u001b[0mself\u001b[0m\u001b[0;34m.\u001b[0m\u001b[0mf\u001b[0m\u001b[0;34m,\u001b[0m \u001b[0;34m**\u001b[0m\u001b[0mself\u001b[0m\u001b[0;34m.\u001b[0m\u001b[0moptions\u001b[0m\u001b[0;34m)\u001b[0m\u001b[0;34m\u001b[0m\u001b[0;34m\u001b[0m\u001b[0m\n\u001b[0m\u001b[1;32m   1115\u001b[0m         \u001b[0;32melse\u001b[0m\u001b[0;34m:\u001b[0m\u001b[0;34m\u001b[0m\u001b[0;34m\u001b[0m\u001b[0m\n\u001b[1;32m   1116\u001b[0m             \u001b[0;32mif\u001b[0m \u001b[0mengine\u001b[0m \u001b[0;34m==\u001b[0m \u001b[0;34m\"python\"\u001b[0m\u001b[0;34m:\u001b[0m\u001b[0;34m\u001b[0m\u001b[0;34m\u001b[0m\u001b[0m\n",
      "\u001b[0;32m~/opt/miniconda3/lib/python3.8/site-packages/pandas/io/parsers.py\u001b[0m in \u001b[0;36m__init__\u001b[0;34m(self, src, **kwds)\u001b[0m\n\u001b[1;32m   1889\u001b[0m         \u001b[0mkwds\u001b[0m\u001b[0;34m[\u001b[0m\u001b[0;34m\"usecols\"\u001b[0m\u001b[0;34m]\u001b[0m \u001b[0;34m=\u001b[0m \u001b[0mself\u001b[0m\u001b[0;34m.\u001b[0m\u001b[0musecols\u001b[0m\u001b[0;34m\u001b[0m\u001b[0;34m\u001b[0m\u001b[0m\n\u001b[1;32m   1890\u001b[0m \u001b[0;34m\u001b[0m\u001b[0m\n\u001b[0;32m-> 1891\u001b[0;31m         \u001b[0mself\u001b[0m\u001b[0;34m.\u001b[0m\u001b[0m_reader\u001b[0m \u001b[0;34m=\u001b[0m \u001b[0mparsers\u001b[0m\u001b[0;34m.\u001b[0m\u001b[0mTextReader\u001b[0m\u001b[0;34m(\u001b[0m\u001b[0msrc\u001b[0m\u001b[0;34m,\u001b[0m \u001b[0;34m**\u001b[0m\u001b[0mkwds\u001b[0m\u001b[0;34m)\u001b[0m\u001b[0;34m\u001b[0m\u001b[0;34m\u001b[0m\u001b[0m\n\u001b[0m\u001b[1;32m   1892\u001b[0m         \u001b[0mself\u001b[0m\u001b[0;34m.\u001b[0m\u001b[0munnamed_cols\u001b[0m \u001b[0;34m=\u001b[0m \u001b[0mself\u001b[0m\u001b[0;34m.\u001b[0m\u001b[0m_reader\u001b[0m\u001b[0;34m.\u001b[0m\u001b[0munnamed_cols\u001b[0m\u001b[0;34m\u001b[0m\u001b[0;34m\u001b[0m\u001b[0m\n\u001b[1;32m   1893\u001b[0m \u001b[0;34m\u001b[0m\u001b[0m\n",
      "\u001b[0;32mpandas/_libs/parsers.pyx\u001b[0m in \u001b[0;36mpandas._libs.parsers.TextReader.__cinit__\u001b[0;34m()\u001b[0m\n",
      "\u001b[0;32mpandas/_libs/parsers.pyx\u001b[0m in \u001b[0;36mpandas._libs.parsers.TextReader._setup_parser_source\u001b[0;34m()\u001b[0m\n",
      "\u001b[0;31mFileNotFoundError\u001b[0m: [Errno 2] File C:/Users/keati/Documents/Cosc301/Nhl_Data/game_teams_stats.csv does not exist: 'C:/Users/keati/Documents/Cosc301/Nhl_Data/game_teams_stats.csv'"
     ]
    }
   ],
   "source": [
    "k = \"C:/Users/keati/Documents/Cosc301/Nhl_Data/game_teams_stats.csv\"\n",
    "l = \"C:/Users/keati/Documents/Cosc301/Nhl_Data/team_info.csv\"\n",
    "\n",
    "df1 = pf.CoachData(k)\n",
    "df2 = pf.TeamData(k)\n",
    "df3 = pf.TeamList(l)\n",
    "\n",
    "Coach_df = pd.merge(df3,df1, how='inner')\n",
    "total_df = pd.concat([df3,df2],axis=1).reindex(df2.index)"
   ]
  },
  {
   "cell_type": "markdown",
   "id": "8efcda6d-ea31-4dd1-8c5a-3238461c702e",
   "metadata": {},
   "source": [
    "## Successful Tenure"
   ]
  },
  {
   "cell_type": "markdown",
   "id": "9d89becd-1751-4675-bf53-8631270cdaa9",
   "metadata": {},
   "source": [
    "To start off our analysis of the most dominate team I first wanted to look at each individual team and figure out who on which coach has had the best run on each team"
   ]
  },
  {
   "cell_type": "code",
   "execution_count": null,
   "id": "4abcf1ae-6bcb-46e0-8dcd-98d2c0ab8dba",
   "metadata": {},
   "outputs": [],
   "source": [
    "Total = Coach_df.sort_values('won').drop_duplicates('teamName', keep = 'last').reset_index(drop=True)"
   ]
  },
  {
   "cell_type": "markdown",
   "id": "ad405a1c-7e98-4907-a369-00350c3c73ce",
   "metadata": {},
   "source": [
    "- From this dataframe I was able to plot and see which had the most amount of wins with each individual team"
   ]
  },
  {
   "cell_type": "code",
   "execution_count": null,
   "id": "dd2598c7-2bf8-4fdc-b454-65a249a901be",
   "metadata": {},
   "outputs": [],
   "source": [
    "Most_wins = Total.sort_values('won').drop_duplicates('teamName', keep = 'last').reset_index(drop=True)\n",
    "sns.barplot(x='won',y='head_coach',data=Most_wins,linewidth=1)\n",
    "plt.xlabel(\"Wins\")\n",
    "plt.ylabel(\"Head Coach\")\n",
    "plt.title(\"Most Wins for each Team\")"
   ]
  },
  {
   "cell_type": "markdown",
   "id": "05862a1a-8175-4a5c-bfc2-ce19e21cf676",
   "metadata": {},
   "source": [
    "Moving on from this base Information I wanted to see what made each coach with there respective made them so successful.\n",
    "\n",
    "To achieve this I created another two columns figuring out the each teams total goal percentage and power play goal percentage"
   ]
  },
  {
   "cell_type": "code",
   "execution_count": null,
   "id": "f8d1ac9b-9fac-46fd-bdd3-a3830d6f3202",
   "metadata": {},
   "outputs": [],
   "source": [
    "Total['Goal Percentage in %'] = ((Total['goals']/Total['shots'])*100)\n",
    "Total['PPG Goal Percentage in %'] = ((Total['powerPlayGoals']/Total['powerPlayOpportunities'])*100)\n",
    "Total.head()"
   ]
  },
  {
   "cell_type": "code",
   "execution_count": null,
   "id": "b45c6cd1-67ec-415e-8b6d-5b3a7c5e1a63",
   "metadata": {},
   "outputs": [],
   "source": [
    "sns.barplot(x='Goal Percentage in %',y='head_coach',data=Total,linewidth=0.2)"
   ]
  },
  {
   "cell_type": "code",
   "execution_count": null,
   "id": "2a979944-3aaa-42b6-9ef3-57c01616a7a7",
   "metadata": {},
   "outputs": [],
   "source": [
    "sns.barplot(x='PPG Goal Percentage in %',y='head_coach',data=Total,linewidth=0.2)"
   ]
  },
  {
   "cell_type": "markdown",
   "id": "0a67dceb-80c1-4621-a161-aabc0384a4cb",
   "metadata": {},
   "source": [
    "## Most dominate"
   ]
  },
  {
   "cell_type": "markdown",
   "id": "5fef4d61-4b93-4226-bce6-9dc6a84b25c1",
   "metadata": {},
   "source": [
    "To talk about most dominate, We will be exploring the stats from each team regardless off there overall achieved results in the last 8 years\n",
    "\n",
    "From this we are able to see which teams have been able to win the most games with the bruins almost doubling the Jets. We also must acknlowedge the data may be a bit flawed from this perspective as the Golden Knights have not been in the league as long as every other team."
   ]
  },
  {
   "cell_type": "code",
   "execution_count": null,
   "id": "96f398e7-6e0d-4ee6-8f79-e43560eb7ad3",
   "metadata": {},
   "outputs": [],
   "source": [
    "total_df.head()"
   ]
  },
  {
   "cell_type": "code",
   "execution_count": null,
   "id": "685ed8bb-5c6c-49b3-87e4-7764e1253833",
   "metadata": {},
   "outputs": [],
   "source": [
    "pd_df = total_df.sort_values(['won']).reset_index(drop=True)\n",
    "sns.barplot(x='won',y='teamName',data=pd_df,linewidth=1)"
   ]
  },
  {
   "cell_type": "markdown",
   "id": "2f5f951d-b0e4-446a-b1df-d21ee77183ba",
   "metadata": {},
   "source": [
    "To work around this I am going to create a weighted total including shots, hits, takeaways and blocked shots as these stats are more relative to the overal play of a team rather than goals.\n",
    "The scores will be computed with:\n",
    " - 40% Shots - Help a team win  with offense\n",
    " - 30% takeaway - Generates a turn over and gives the team the play\n",
    " - 10% Hits - defensive statistic, defending your zone\n",
    " - 20% block shots - defensive statistic\n",
    " \n",
    " "
   ]
  },
  {
   "cell_type": "code",
   "execution_count": null,
   "id": "77d46982-0ef6-4e84-8a1c-12b4c9ce3ee5",
   "metadata": {},
   "outputs": [],
   "source": [
    "total_df['Weighted Score'] = (0.4*df2['shots'] + 0.3*df2['takeaways'] + 0.1*df2['hits'] + 0.2*df2['blocked'])\n",
    "Sample = pd.DataFrame(total_df.groupby(\"teamName\")['Weighted Score'].mean().sort_values(ascending=False).reset_index())\n",
    "Sample"
   ]
  },
  {
   "cell_type": "markdown",
   "id": "0655e24e-e961-4ae0-818b-2ab9c7f89e0a",
   "metadata": {},
   "source": [
    "This produces an interesting result. You can see that Bruins are the top when it comes to the weighted total, however, the wild are near the bottom however only finishing middle of the pack in wins"
   ]
  },
  {
   "cell_type": "markdown",
   "id": "03499521-b72b-4432-8a5b-49c9a1cc092a",
   "metadata": {},
   "source": [
    "## Vanessa Research Question"
   ]
  },
  {
   "cell_type": "markdown",
   "id": "2cefb799-910a-42e0-b86f-d11ea47bc128",
   "metadata": {},
   "source": []
  },
  {
   "cell_type": "code",
   "execution_count": null,
   "id": "46716145-b288-43b7-bea5-9eeb4946bab0",
   "metadata": {},
   "outputs": [],
   "source": []
  }
 ],
 "metadata": {
  "kernelspec": {
   "display_name": "Python 3 (ipykernel)",
   "language": "python",
   "name": "python3"
  },
  "language_info": {
   "codemirror_mode": {
    "name": "ipython",
    "version": 3
   },
   "file_extension": ".py",
   "mimetype": "text/x-python",
   "name": "python",
   "nbconvert_exporter": "python",
   "pygments_lexer": "ipython3",
   "version": "3.8.5"
  }
 },
 "nbformat": 4,
 "nbformat_minor": 5
}
