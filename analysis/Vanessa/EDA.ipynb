{
 "cells": [
  {
   "cell_type": "markdown",
   "id": "04d15358-ff1c-42fd-947b-ef0fd1ba15da",
   "metadata": {},
   "source": [
    "# EDA"
   ]
  },
  {
   "cell_type": "markdown",
   "id": "6d71203f-41d9-49fe-be4b-6d4829297a6b",
   "metadata": {},
   "source": [
    "## Intro\n",
    "xxx\n"
   ]
  },
  {
   "cell_type": "markdown",
   "id": "968fc01b-7235-46aa-90e3-5bc81d49a85e",
   "metadata": {},
   "source": [
    "## Import Libraries"
   ]
  },
  {
   "cell_type": "code",
   "execution_count": 3,
   "id": "5cfd0d0f-c0ab-4b6c-9c54-466d5bf8a81e",
   "metadata": {},
   "outputs": [],
   "source": [
    "import pandas as pd\n",
    "import seaborn as sns\n",
    "import numpy as np\n",
    "import os\n",
    "import matplotlib.pyplot as plt\n",
    "import pandas_profiling\n",
    "from pandas_profiling import ProfileReport\n"
   ]
  },
  {
   "cell_type": "code",
   "execution_count": 5,
   "id": "41ab4f97-070e-457a-aafa-5e47d4801999",
   "metadata": {},
   "outputs": [],
   "source": [
    "import sys\n",
    "sys.path.append('..')"
   ]
  },
  {
   "cell_type": "code",
   "execution_count": 7,
   "id": "bf27cbc9-ca85-4e91-ac13-ec8f57ca34f6",
   "metadata": {},
   "outputs": [
    {
     "ename": "SyntaxError",
     "evalue": "invalid syntax (ProjectFunctions.py, line 56)",
     "output_type": "error",
     "traceback": [
      "Traceback \u001b[0;36m(most recent call last)\u001b[0m:\n",
      "  File \u001b[1;32m\"/Users/vanessadunn/opt/miniconda3/lib/python3.8/site-packages/IPython/core/interactiveshell.py\"\u001b[0m, line \u001b[1;32m3441\u001b[0m, in \u001b[1;35mrun_code\u001b[0m\n    exec(code_obj, self.user_global_ns, self.user_ns)\n",
      "\u001b[0;36m  File \u001b[0;32m\"/var/folders/zt/x8z6v31s363774h5pl0njvhc0000gn/T/ipykernel_17550/2641890935.py\"\u001b[0;36m, line \u001b[0;32m1\u001b[0;36m, in \u001b[0;35m<module>\u001b[0;36m\u001b[0m\n\u001b[0;31m    from scripts import ProjectFunctions as pf\u001b[0m\n",
      "\u001b[0;36m  File \u001b[0;32m\"../scripts/ProjectFunctions.py\"\u001b[0;36m, line \u001b[0;32m56\u001b[0m\n\u001b[0;31m    df5 = (\u001b[0m\n\u001b[0m    ^\u001b[0m\n\u001b[0;31mSyntaxError\u001b[0m\u001b[0;31m:\u001b[0m invalid syntax\n"
     ]
    }
   ],
   "source": [
    "from scripts import ProjectFunctions as pf"
   ]
  },
  {
   "cell_type": "markdown",
   "id": "61224180-ab28-4f43-99ea-dcd633a0e343",
   "metadata": {},
   "source": [
    "## Importing Data \n",
    "explanation"
   ]
  },
  {
   "cell_type": "code",
   "execution_count": null,
   "id": "3f2fdb16-8768-40f1-b14f-18fcd6458d79",
   "metadata": {},
   "outputs": [],
   "source": [
    "adress1 = \"/Users/vanessadunn/Documents/School/4thYear/Data301/game_shifts.csv\"\n",
    "adress2 = \"/Users/vanessadunn/Documents/School/4thYear/Data301/game_skater_stats.csv\""
   ]
  },
  {
   "cell_type": "markdown",
   "id": "e62fafa1-1026-416f-8c4a-5bc3e2529746",
   "metadata": {},
   "source": [
    "## Cleaning Data"
   ]
  },
  {
   "cell_type": "code",
   "execution_count": 1,
   "id": "c2eadddd-464a-4dbe-9317-5d21c70ea784",
   "metadata": {},
   "outputs": [
    {
     "ename": "NameError",
     "evalue": "name 'ShiftsCleaning' is not defined",
     "output_type": "error",
     "traceback": [
      "\u001b[0;31m---------------------------------------------------------------------------\u001b[0m",
      "\u001b[0;31mNameError\u001b[0m                                 Traceback (most recent call last)",
      "\u001b[0;32m/var/folders/zt/x8z6v31s363774h5pl0njvhc0000gn/T/ipykernel_17550/239139524.py\u001b[0m in \u001b[0;36m<module>\u001b[0;34m\u001b[0m\n\u001b[1;32m      1\u001b[0m \u001b[0;31m#add in after they work\u001b[0m\u001b[0;34m\u001b[0m\u001b[0;34m\u001b[0m\u001b[0;34m\u001b[0m\u001b[0m\n\u001b[0;32m----> 2\u001b[0;31m \u001b[0mShiftsCleaning\u001b[0m\u001b[0;34m(\u001b[0m\u001b[0madress1\u001b[0m\u001b[0;34m)\u001b[0m\u001b[0;34m\u001b[0m\u001b[0;34m\u001b[0m\u001b[0m\n\u001b[0m",
      "\u001b[0;31mNameError\u001b[0m: name 'ShiftsCleaning' is not defined"
     ]
    }
   ],
   "source": [
    "#add in after they work\n",
    "ShiftsCleaning(adress1)\n"
   ]
  },
  {
   "cell_type": "markdown",
   "id": "99ee1e4c-7e66-4f44-ac2f-58ed4ccda533",
   "metadata": {},
   "source": [
    "## Quick overview of Cleaned Data"
   ]
  },
  {
   "cell_type": "code",
   "execution_count": null,
   "id": "6db04275-0300-475a-a49d-17dea433eb6d",
   "metadata": {},
   "outputs": [],
   "source": [
    "do the head of both"
   ]
  },
  {
   "cell_type": "code",
   "execution_count": null,
   "id": "33f426e2-0c88-4640-a79e-ce5b94218bcb",
   "metadata": {},
   "outputs": [],
   "source": [
    "head"
   ]
  },
  {
   "cell_type": "code",
   "execution_count": null,
   "id": "1c55c110-0ab0-49de-9b1c-ecd32c9adb64",
   "metadata": {},
   "outputs": [],
   "source": [
    "next use describe or the new one we learnt in lab 4"
   ]
  },
  {
   "cell_type": "code",
   "execution_count": null,
   "id": "6eae506c-2363-4e41-a418-b1a567b23551",
   "metadata": {},
   "outputs": [],
   "source": [
    "do again for next"
   ]
  },
  {
   "cell_type": "markdown",
   "id": "ffc9ad5f-bc21-455a-9d55-0a432af794d4",
   "metadata": {},
   "source": [
    "## Merging Data Sets"
   ]
  },
  {
   "cell_type": "code",
   "execution_count": null,
   "id": "3304ee93-8cf9-420f-8d76-234d7ce211f3",
   "metadata": {},
   "outputs": [],
   "source": [
    "do the merge"
   ]
  },
  {
   "cell_type": "code",
   "execution_count": null,
   "id": "f91f1304-81ff-42dd-aecd-180906e03f1e",
   "metadata": {},
   "outputs": [],
   "source": [
    "head of merged data set"
   ]
  },
  {
   "cell_type": "markdown",
   "id": "1395664b-4700-4441-a401-c17afef9ea66",
   "metadata": {},
   "source": [
    "## Graphing Data Set Correlations"
   ]
  },
  {
   "cell_type": "code",
   "execution_count": null,
   "id": "d2f4fd94-f726-48b2-b207-442bd1501551",
   "metadata": {},
   "outputs": [],
   "source": [
    "heat map"
   ]
  },
  {
   "cell_type": "markdown",
   "id": "2572e0b6-d239-4be6-91d6-e975570edd82",
   "metadata": {},
   "source": [
    "## More Graphs and Explanations"
   ]
  },
  {
   "cell_type": "code",
   "execution_count": null,
   "id": "475e2d0e-9b31-4b99-9623-f31b4ae9b233",
   "metadata": {},
   "outputs": [],
   "source": []
  },
  {
   "cell_type": "code",
   "execution_count": null,
   "id": "3eab4ed5-2313-42de-8248-c7fb822de541",
   "metadata": {},
   "outputs": [],
   "source": []
  }
 ],
 "metadata": {
  "kernelspec": {
   "display_name": "Python 3 (ipykernel)",
   "language": "python",
   "name": "python3"
  },
  "language_info": {
   "codemirror_mode": {
    "name": "ipython",
    "version": 3
   },
   "file_extension": ".py",
   "mimetype": "text/x-python",
   "name": "python",
   "nbconvert_exporter": "python",
   "pygments_lexer": "ipython3",
   "version": "3.8.5"
  }
 },
 "nbformat": 4,
 "nbformat_minor": 5
}
