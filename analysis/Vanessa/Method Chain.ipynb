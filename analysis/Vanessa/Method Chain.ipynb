{
 "cells": [
  {
   "cell_type": "code",
   "execution_count": 5,
   "id": "f6aeb312-7291-4f55-bf4d-16d31402b93f",
   "metadata": {},
   "outputs": [],
   "source": [
    "import pandas as pd\n",
    "import numpy as np\n",
    "import sys\n",
    "import time"
   ]
  },
  {
   "cell_type": "code",
   "execution_count": 6,
   "id": "558a5fb0-9f55-4f3a-b7f3-55c126641436",
   "metadata": {},
   "outputs": [],
   "source": [
    "#game_shifts = pd.read_csv(\"/Users/vanessadunn/Documents/School/4thYear/Data301/game_shifts.csv\").game_shifts['shiftlength']=(game_shifts['shift_end']-game_shifts['shift_start'])\n",
    "#game_shifts.game_shifts[].values.astype(str).game_shifts['ID']=game_shifts['game_id'].str.cat(game_shifts['player_id'],sep='-')"
   ]
  },
  {
   "cell_type": "code",
   "execution_count": 9,
   "id": "baedbb2e-fcb7-43ea-8274-5bb1717f2269",
   "metadata": {},
   "outputs": [],
   "source": [
    "def ShiftsCleaning(adress1):\n",
    "    df4 = (\n",
    "        pd.read_csv(adress1)\n",
    "        .assign(shiftlength=lambda adress1:(adress1['shift_end']-adress1['shift_start']))\n",
    "        .values.astype(str)\n",
    "    )\n",
    "    df5 = (\n",
    "        df4.np.insert(df4,0,'ID',(df4['game_id'].str.cat(df4['player_id'],sep='-')), axis='columns')\n",
    "        .drop(['period','shift_start','shift_end'], axis='columns')\n",
    "        .groupby('ID').mean()\n",
    "\n",
    "    )\n",
    "    df6=(\n",
    "        df5[(df5['shiftlength']) > 0 ]\n",
    "    )\n",
    "    \n",
    "    return df4"
   ]
  },
  {
   "cell_type": "code",
   "execution_count": 10,
   "id": "0109ad55-5a4b-4b21-a6cf-66fddb0f259d",
   "metadata": {},
   "outputs": [
    {
     "ename": "AttributeError",
     "evalue": "'numpy.ndarray' object has no attribute 'np'",
     "output_type": "error",
     "traceback": [
      "\u001b[0;31m---------------------------------------------------------------------------\u001b[0m",
      "\u001b[0;31mAttributeError\u001b[0m                            Traceback (most recent call last)",
      "\u001b[0;32m/var/folders/zt/x8z6v31s363774h5pl0njvhc0000gn/T/ipykernel_16292/1072217096.py\u001b[0m in \u001b[0;36m<module>\u001b[0;34m\u001b[0m\n\u001b[0;32m----> 1\u001b[0;31m \u001b[0mShiftsCleaning\u001b[0m\u001b[0;34m(\u001b[0m\u001b[0;34m\"/Users/vanessadunn/Documents/School/4thYear/Data301/game_shifts.csv\"\u001b[0m\u001b[0;34m)\u001b[0m\u001b[0;34m\u001b[0m\u001b[0;34m\u001b[0m\u001b[0m\n\u001b[0m",
      "\u001b[0;32m/var/folders/zt/x8z6v31s363774h5pl0njvhc0000gn/T/ipykernel_16292/2948573974.py\u001b[0m in \u001b[0;36mShiftsCleaning\u001b[0;34m(adress1)\u001b[0m\n\u001b[1;32m      6\u001b[0m     )\n\u001b[1;32m      7\u001b[0m     df5 = (\n\u001b[0;32m----> 8\u001b[0;31m         \u001b[0mdf4\u001b[0m\u001b[0;34m.\u001b[0m\u001b[0mnp\u001b[0m\u001b[0;34m.\u001b[0m\u001b[0minsert\u001b[0m\u001b[0;34m(\u001b[0m\u001b[0mdf4\u001b[0m\u001b[0;34m,\u001b[0m\u001b[0;36m0\u001b[0m\u001b[0;34m,\u001b[0m\u001b[0;34m'ID'\u001b[0m\u001b[0;34m,\u001b[0m\u001b[0;34m(\u001b[0m\u001b[0mdf4\u001b[0m\u001b[0;34m[\u001b[0m\u001b[0;34m'game_id'\u001b[0m\u001b[0;34m]\u001b[0m\u001b[0;34m.\u001b[0m\u001b[0mstr\u001b[0m\u001b[0;34m.\u001b[0m\u001b[0mcat\u001b[0m\u001b[0;34m(\u001b[0m\u001b[0mdf4\u001b[0m\u001b[0;34m[\u001b[0m\u001b[0;34m'player_id'\u001b[0m\u001b[0;34m]\u001b[0m\u001b[0;34m,\u001b[0m\u001b[0msep\u001b[0m\u001b[0;34m=\u001b[0m\u001b[0;34m'-'\u001b[0m\u001b[0;34m)\u001b[0m\u001b[0;34m)\u001b[0m\u001b[0;34m,\u001b[0m \u001b[0maxis\u001b[0m\u001b[0;34m=\u001b[0m\u001b[0;34m'columns'\u001b[0m\u001b[0;34m)\u001b[0m\u001b[0;34m\u001b[0m\u001b[0;34m\u001b[0m\u001b[0m\n\u001b[0m\u001b[1;32m      9\u001b[0m         \u001b[0;34m.\u001b[0m\u001b[0mdrop\u001b[0m\u001b[0;34m(\u001b[0m\u001b[0;34m[\u001b[0m\u001b[0;34m'period'\u001b[0m\u001b[0;34m,\u001b[0m\u001b[0;34m'shift_start'\u001b[0m\u001b[0;34m,\u001b[0m\u001b[0;34m'shift_end'\u001b[0m\u001b[0;34m]\u001b[0m\u001b[0;34m,\u001b[0m \u001b[0maxis\u001b[0m\u001b[0;34m=\u001b[0m\u001b[0;34m'columns'\u001b[0m\u001b[0;34m)\u001b[0m\u001b[0;34m\u001b[0m\u001b[0;34m\u001b[0m\u001b[0m\n\u001b[1;32m     10\u001b[0m         \u001b[0;34m.\u001b[0m\u001b[0mgroupby\u001b[0m\u001b[0;34m(\u001b[0m\u001b[0;34m'ID'\u001b[0m\u001b[0;34m)\u001b[0m\u001b[0;34m.\u001b[0m\u001b[0mmean\u001b[0m\u001b[0;34m(\u001b[0m\u001b[0;34m)\u001b[0m\u001b[0;34m\u001b[0m\u001b[0;34m\u001b[0m\u001b[0m\n",
      "\u001b[0;31mAttributeError\u001b[0m: 'numpy.ndarray' object has no attribute 'np'"
     ]
    }
   ],
   "source": [
    "ShiftsCleaning(\"/Users/vanessadunn/Documents/School/4thYear/Data301/game_shifts.csv\")"
   ]
  },
  {
   "cell_type": "code",
   "execution_count": null,
   "id": "73bd960e-a814-4fea-afac-f82e7c55d4b2",
   "metadata": {},
   "outputs": [],
   "source": [
    "def StatsCleaning(adress2):\n",
    "    df7 = (pd.read_csv(adress2)\n",
    "          .drop(['faceoffTaken', 'takeaways', 'giveaways','hits','blocked','faceOffWins','evenTimeOnIce','penaltyMinutes','powerPlayTimeOnIce','shortHandedTimeOnIce'],axis='columns')\n",
    "          .assign(Goals=lambda adress2:(adress2[\"goals\"]+adress2[\"powerPlayGoals\"]+adress2[\"shortHandedGoals\"]))\n",
    "          .assign(Assists=lambda adress2:(adress2[\"assists\"]+adress2[\"powerPlayAssists\"]+adress2[\"shortHandedAssists\"]))\n",
    "          #\n",
    "          #\n",
    "          .drop(['goals','assists','powerPlayGoals','powerPlayAssists','shortHandedGoals','shortHandedAssists','game_id','player_id'], axis='columns')\n",
    "          )\n",
    "    return df7"
   ]
  },
  {
   "cell_type": "code",
   "execution_count": null,
   "id": "22f79ec1-00ca-47e8-9fba-aacb880b9639",
   "metadata": {},
   "outputs": [],
   "source": [
    "StatsCleaning(\"/Users/vanessadunn/Documents/School/4thYear/Data301/game_skater_stats.csv\")"
   ]
  }
 ],
 "metadata": {
  "kernelspec": {
   "display_name": "Python 3 (ipykernel)",
   "language": "python",
   "name": "python3"
  },
  "language_info": {
   "codemirror_mode": {
    "name": "ipython",
    "version": 3
   },
   "file_extension": ".py",
   "mimetype": "text/x-python",
   "name": "python",
   "nbconvert_exporter": "python",
   "pygments_lexer": "ipython3",
   "version": "3.8.5"
  }
 },
 "nbformat": 4,
 "nbformat_minor": 5
}
