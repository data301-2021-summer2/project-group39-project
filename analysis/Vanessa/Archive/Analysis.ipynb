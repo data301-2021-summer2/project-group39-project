{
 "cells": [
  {
   "cell_type": "markdown",
   "id": "900ceeaa-e1f3-46bf-9da8-5d5f51e1dd8c",
   "metadata": {},
   "source": [
    "# NHL Analysis - Vanessa\n"
   ]
  },
  {
   "cell_type": "markdown",
   "id": "4d07c6d9-8157-487e-ad6b-e57e2540ace0",
   "metadata": {},
   "source": [
    "## Question\n",
    "- Does shift length have any correlation to goals scored by NHL teams - is the 50 second shift really the best?"
   ]
  },
  {
   "cell_type": "markdown",
   "id": "5295921d-ca61-4a6d-be24-458e4a6ecc9e",
   "metadata": {},
   "source": [
    "## Import Data"
   ]
  },
  {
   "cell_type": "code",
   "execution_count": null,
   "id": "374ca789-5202-4471-8aac-cc52bcb4defe",
   "metadata": {},
   "outputs": [],
   "source": []
  },
  {
   "cell_type": "markdown",
   "id": "624e6730-4c89-4117-8a61-70e154619cad",
   "metadata": {},
   "source": [
    "use the standard distribution graphs to show where the best range is and then use the by teams data to show that all teams are on average within this range"
   ]
  },
  {
   "cell_type": "markdown",
   "id": "98520f99-bd15-452c-8e68-b6e0f1c7f8eb",
   "metadata": {},
   "source": [
    "## Shift Length"
   ]
  },
  {
   "cell_type": "markdown",
   "id": "2715a74b-ece0-4de2-95c9-57cd82aa8c4e",
   "metadata": {},
   "source": [
    "First we will show the distribution of NHL shift Lengths from this dataset:"
   ]
  },
  {
   "cell_type": "code",
   "execution_count": null,
   "id": "2352cfb0-d4b7-4a02-8f9e-6fc49d370616",
   "metadata": {},
   "outputs": [],
   "source": [
    "sns.kdeplot(df['shiftlength'])"
   ]
  },
  {
   "cell_type": "markdown",
   "id": "bf086956-a21f-40a7-a552-c70b80925327",
   "metadata": {},
   "source": [
    "It's easy to see that most shifts are within the 30-75 second range with the most around 45 seconds.\n",
    "\n",
    "Next we will look at the goals and shots taken at given shift lengths:"
   ]
  },
  {
   "cell_type": "code",
   "execution_count": null,
   "id": "5e20d78b-c409-47c0-9440-8c00a6d33b27",
   "metadata": {},
   "outputs": [],
   "source": [
    "sns.scatterplot(data=df,x='shiftlength', y='shots')"
   ]
  },
  {
   "cell_type": "code",
   "execution_count": null,
   "id": "ace48af8-6dd6-4475-a9e0-d6dbf6ca5725",
   "metadata": {},
   "outputs": [],
   "source": [
    "sns.scatterplot(data=df,x='shiftlength', y='Goals')"
   ]
  },
  {
   "cell_type": "markdown",
   "id": "3da47bfe-f703-4f38-b628-d3a2a8e6e352",
   "metadata": {},
   "source": [
    "From these two plots we can see that the highest goals and shots achieved are found within the same shift range of 40 to 60 seconds and the results follow a normal distribution curve. \n",
    "\n",
    "After seeing that these shift ranges are the most efficient, it begs the question: So what shift lengths are averagely used by teams throughout the NHL. This can be shown by averaging the shift lengths for each team and graphing them as follows:"
   ]
  },
  {
   "cell_type": "code",
   "execution_count": 1,
   "id": "c9ae4b8c-b9d1-4b71-9f88-29657887a22f",
   "metadata": {},
   "outputs": [
    {
     "ename": "NameError",
     "evalue": "name 'df' is not defined",
     "output_type": "error",
     "traceback": [
      "\u001b[0;31m---------------------------------------------------------------------------\u001b[0m",
      "\u001b[0;31mNameError\u001b[0m                                 Traceback (most recent call last)",
      "\u001b[0;32m/var/folders/zt/x8z6v31s363774h5pl0njvhc0000gn/T/ipykernel_21462/1962099519.py\u001b[0m in \u001b[0;36m<module>\u001b[0;34m\u001b[0m\n\u001b[0;32m----> 1\u001b[0;31m \u001b[0mshiftsbyteam\u001b[0m \u001b[0;34m=\u001b[0m \u001b[0mdf\u001b[0m\u001b[0;34m.\u001b[0m\u001b[0mgroupby\u001b[0m\u001b[0;34m(\u001b[0m\u001b[0;34m[\u001b[0m\u001b[0;34m'team_id'\u001b[0m\u001b[0;34m]\u001b[0m\u001b[0;34m)\u001b[0m\u001b[0;34m.\u001b[0m\u001b[0mmean\u001b[0m\u001b[0;34m(\u001b[0m\u001b[0;34m)\u001b[0m\u001b[0;34m.\u001b[0m\u001b[0mreset_index\u001b[0m\u001b[0;34m(\u001b[0m\u001b[0;34m)\u001b[0m\u001b[0;34m\u001b[0m\u001b[0;34m\u001b[0m\u001b[0m\n\u001b[0m\u001b[1;32m      2\u001b[0m \u001b[0mfig\u001b[0m\u001b[0;34m,\u001b[0m \u001b[0max\u001b[0m \u001b[0;34m=\u001b[0m \u001b[0mplt\u001b[0m\u001b[0;34m.\u001b[0m\u001b[0msubplots\u001b[0m\u001b[0;34m(\u001b[0m\u001b[0mfigsize\u001b[0m\u001b[0;34m=\u001b[0m\u001b[0;34m(\u001b[0m\u001b[0;36m30\u001b[0m\u001b[0;34m,\u001b[0m\u001b[0;36m10\u001b[0m\u001b[0;34m)\u001b[0m\u001b[0;34m)\u001b[0m\u001b[0;34m\u001b[0m\u001b[0;34m\u001b[0m\u001b[0m\n\u001b[1;32m      3\u001b[0m \u001b[0msns\u001b[0m\u001b[0;34m.\u001b[0m\u001b[0mbarplot\u001b[0m\u001b[0;34m(\u001b[0m\u001b[0mx\u001b[0m\u001b[0;34m=\u001b[0m\u001b[0;34m'team_id'\u001b[0m\u001b[0;34m,\u001b[0m\u001b[0my\u001b[0m\u001b[0;34m=\u001b[0m\u001b[0;34m'shiftlength'\u001b[0m\u001b[0;34m,\u001b[0m\u001b[0mdata\u001b[0m\u001b[0;34m=\u001b[0m\u001b[0mshiftsbyteam\u001b[0m\u001b[0;34m)\u001b[0m\u001b[0;34m\u001b[0m\u001b[0;34m\u001b[0m\u001b[0m\n",
      "\u001b[0;31mNameError\u001b[0m: name 'df' is not defined"
     ]
    }
   ],
   "source": [
    "shiftsbyteam = df.groupby(['team_id']).mean().reset_index()\n",
    "fig, ax = plt.subplots(figsize=(30,10))\n",
    "sns.barplot(x='team_id',y='shiftlength',data=shiftsbyteam)"
   ]
  },
  {
   "cell_type": "markdown",
   "id": "84bc2fd1-6895-4735-94d8-6c152e25ae89",
   "metadata": {},
   "source": [
    "This Graph shows that all NHL Teams analyzed within this data have an average shift length of 40-50 seconds which keeps them within the ideal range identified above. "
   ]
  },
  {
   "cell_type": "code",
   "execution_count": null,
   "id": "c6b9d983-8b81-42f8-9ae1-44f8eae9371b",
   "metadata": {},
   "outputs": [],
   "source": []
  }
 ],
 "metadata": {
  "kernelspec": {
   "display_name": "Python 3 (ipykernel)",
   "language": "python",
   "name": "python3"
  },
  "language_info": {
   "codemirror_mode": {
    "name": "ipython",
    "version": 3
   },
   "file_extension": ".py",
   "mimetype": "text/x-python",
   "name": "python",
   "nbconvert_exporter": "python",
   "pygments_lexer": "ipython3",
   "version": "3.8.5"
  }
 },
 "nbformat": 4,
 "nbformat_minor": 5
}
