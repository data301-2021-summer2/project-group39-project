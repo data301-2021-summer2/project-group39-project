{
 "cells": [
  {
   "cell_type": "code",
   "execution_count": 1,
   "id": "55b22c8f-e74e-4de9-afda-49aac22af23b",
   "metadata": {},
   "outputs": [],
   "source": [
    "def TeamData(n):\n",
    "        # Method chaining begins\n",
    "    df = (\n",
    "         pd.read_csv(n)\n",
    "        )\n",
    "    df2 = (\n",
    "         df[(df['team_id']) <= 54 ]\n",
    "         .drop(['game_id','HoA','settled_in','head_coach','faceOffWinPercentage','startRinkSide'], axis ='columns')\n",
    "         .groupby('team_id').sum()\n",
    "         .reset_index(drop=True)\n",
    "    )\n",
    "    return df2"
   ]
  }
 ],
 "metadata": {
  "kernelspec": {
   "display_name": "Python 3 (ipykernel)",
   "language": "python",
   "name": "python3"
  },
  "language_info": {
   "codemirror_mode": {
    "name": "ipython",
    "version": 3
   },
   "file_extension": ".py",
   "mimetype": "text/x-python",
   "name": "python",
   "nbconvert_exporter": "python",
   "pygments_lexer": "ipython3",
   "version": "3.8.5"
  }
 },
 "nbformat": 4,
 "nbformat_minor": 5
}
