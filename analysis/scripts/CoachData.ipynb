{
 "cells": [
  {
   "cell_type": "code",
   "execution_count": 2,
   "id": "9d10cfa7-c182-4389-9c0c-8800f9be753e",
   "metadata": {},
   "outputs": [],
   "source": [
    "def CoachData(n):\n",
    "   \n",
    "    df = (\n",
    "        pd.read_csv(n)\n",
    "       .groupby(['head_coach','team_id'])\n",
    "       .sum()\n",
    "       .reset_index()\n",
    "        )\n",
    "    return df"
   ]
  },
  {
   "cell_type": "code",
   "execution_count": null,
   "id": "e585a0cd-f365-4151-a85a-e2468331a39d",
   "metadata": {},
   "outputs": [],
   "source": []
  }
 ],
 "metadata": {
  "kernelspec": {
   "display_name": "Python 3 (ipykernel)",
   "language": "python",
   "name": "python3"
  },
  "language_info": {
   "codemirror_mode": {
    "name": "ipython",
    "version": 3
   },
   "file_extension": ".py",
   "mimetype": "text/x-python",
   "name": "python",
   "nbconvert_exporter": "python",
   "pygments_lexer": "ipython3",
   "version": "3.8.5"
  }
 },
 "nbformat": 4,
 "nbformat_minor": 5
}
