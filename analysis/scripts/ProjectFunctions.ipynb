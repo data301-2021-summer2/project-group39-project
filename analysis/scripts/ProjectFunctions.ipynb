{
 "cells": [
  {
   "cell_type": "code",
   "execution_count": 1,
   "id": "9d10cfa7-c182-4389-9c0c-8800f9be753e",
   "metadata": {},
   "outputs": [],
   "source": [
    "import pandas as pd\n",
    "\n",
    "def CoachData(n):\n",
    "   \n",
    "    df = (\n",
    "        pd.read_csv(n)\n",
    "       .groupby(['head_coach','team_id'])\n",
    "       .sum()\n",
    "       .reset_index()\n",
    "       .drop(['game_id'], axis = 'columns')\n",
    "        )\n",
    "    return df\n",
    "\n",
    "def TeamData(n):\n",
    "        # Method chaining begins\n",
    "    df = (\n",
    "         pd.read_csv(n)\n",
    "        )\n",
    "    df2 = (\n",
    "         df[(df['team_id']) <= 54 ]\n",
    "         .drop(['game_id','HoA','settled_in','head_coach','faceOffWinPercentage','startRinkSide'], axis ='columns')\n",
    "         .groupby('team_id').sum()\n",
    "         .reset_index(drop=True)\n",
    "    )\n",
    "    return df2\n",
    "\n",
    "def TeamList(n):\n",
    "        # Method chaining begins\n",
    "    df = (\n",
    "         pd.read_csv(n)\n",
    "        .drop(['franchiseId','abbreviation','link'],axis='columns')\n",
    "        .sort_values(by='team_id',ascending=True)\n",
    "        .reset_index(drop=True)\n",
    "        )\n",
    "    return df"
   ]
  }
 ],
 "metadata": {
  "kernelspec": {
   "display_name": "Python 3 (ipykernel)",
   "language": "python",
   "name": "python3"
  },
  "language_info": {
   "codemirror_mode": {
    "name": "ipython",
    "version": 3
   },
   "file_extension": ".py",
   "mimetype": "text/x-python",
   "name": "python",
   "nbconvert_exporter": "python",
   "pygments_lexer": "ipython3",
   "version": "3.8.5"
  }
 },
 "nbformat": 4,
 "nbformat_minor": 5
}
