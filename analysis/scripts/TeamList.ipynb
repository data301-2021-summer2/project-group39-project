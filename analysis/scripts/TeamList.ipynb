{
 "cells": [
  {
   "cell_type": "code",
   "execution_count": 1,
   "id": "614fef93-7c8a-4c5e-8fb8-0365f925b0d0",
   "metadata": {},
   "outputs": [],
   "source": [
    "def TeamList(n):\n",
    "        # Method chaining begins\n",
    "    df = (\n",
    "         pd.read_csv(n)\n",
    "        .drop(['franchiseId','abbreviation','link'],axis='columns')\n",
    "        .sort_values(by='team_id',ascending=True)\n",
    "        .reset_index(drop=True)\n",
    "        )\n",
    "    return df"
   ]
  },
  {
   "cell_type": "code",
   "execution_count": null,
   "id": "0a897f71-50ea-465a-a15b-2e7f038b0aba",
   "metadata": {},
   "outputs": [],
   "source": []
  }
 ],
 "metadata": {
  "kernelspec": {
   "display_name": "Python 3 (ipykernel)",
   "language": "python",
   "name": "python3"
  },
  "language_info": {
   "codemirror_mode": {
    "name": "ipython",
    "version": 3
   },
   "file_extension": ".py",
   "mimetype": "text/x-python",
   "name": "python",
   "nbconvert_exporter": "python",
   "pygments_lexer": "ipython3",
   "version": "3.8.5"
  }
 },
 "nbformat": 4,
 "nbformat_minor": 5
}
